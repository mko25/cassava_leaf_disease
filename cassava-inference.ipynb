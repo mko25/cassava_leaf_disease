{
 "cells": [
  {
   "cell_type": "code",
   "execution_count": 1,
   "metadata": {
    "execution": {
     "iopub.execute_input": "2021-02-24T17:28:25.737572Z",
     "iopub.status.busy": "2021-02-24T17:28:25.736912Z",
     "iopub.status.idle": "2021-02-24T17:28:28.750505Z",
     "shell.execute_reply": "2021-02-24T17:28:28.749335Z"
    },
    "papermill": {
     "duration": 3.027117,
     "end_time": "2021-02-24T17:28:28.750633",
     "exception": false,
     "start_time": "2021-02-24T17:28:25.723516",
     "status": "completed"
    },
    "tags": []
   },
   "outputs": [],
   "source": [
    "import numpy as np\n",
    "import pandas as pd\n",
    "import os\n",
    "\n",
    "import cassava_utils as utils\n",
    "\n",
    "import torch\n",
    "from torch.utils.data import DataLoader\n",
    "\n",
    "import albumentations as A\n",
    "from albumentations.pytorch import ToTensorV2"
   ]
  },
  {
   "cell_type": "code",
   "execution_count": 2,
   "metadata": {
    "execution": {
     "iopub.execute_input": "2021-02-24T17:28:28.769468Z",
     "iopub.status.busy": "2021-02-24T17:28:28.768672Z",
     "iopub.status.idle": "2021-02-24T17:28:28.771505Z",
     "shell.execute_reply": "2021-02-24T17:28:28.771058Z"
    },
    "papermill": {
     "duration": 0.01275,
     "end_time": "2021-02-24T17:28:28.771600",
     "exception": false,
     "start_time": "2021-02-24T17:28:28.758850",
     "status": "completed"
    },
    "tags": []
   },
   "outputs": [],
   "source": [
    "DEVICE = \"cuda\""
   ]
  },
  {
   "cell_type": "code",
   "execution_count": 3,
   "metadata": {
    "execution": {
     "iopub.execute_input": "2021-02-24T17:28:28.788917Z",
     "iopub.status.busy": "2021-02-24T17:28:28.788195Z",
     "iopub.status.idle": "2021-02-24T17:28:28.791164Z",
     "shell.execute_reply": "2021-02-24T17:28:28.790670Z"
    },
    "papermill": {
     "duration": 0.012854,
     "end_time": "2021-02-24T17:28:28.791245",
     "exception": false,
     "start_time": "2021-02-24T17:28:28.778391",
     "status": "completed"
    },
    "tags": []
   },
   "outputs": [],
   "source": [
    "folder_path = \"../input/cassava-leaf-disease-classification\"\n",
    "models_path = \"../input/resnet50-fold\""
   ]
  },
  {
   "cell_type": "code",
   "execution_count": 4,
   "metadata": {
    "execution": {
     "iopub.execute_input": "2021-02-24T17:28:28.808903Z",
     "iopub.status.busy": "2021-02-24T17:28:28.808370Z",
     "iopub.status.idle": "2021-02-24T17:28:28.821108Z",
     "shell.execute_reply": "2021-02-24T17:28:28.820685Z"
    },
    "papermill": {
     "duration": 0.023194,
     "end_time": "2021-02-24T17:28:28.821197",
     "exception": false,
     "start_time": "2021-02-24T17:28:28.798003",
     "status": "completed"
    },
    "tags": []
   },
   "outputs": [],
   "source": [
    "# get the path of all models\n",
    "models_list = []\n",
    "for model in os.listdir(models_path):\n",
    "    model = os.path.join(models_path, model)\n",
    "    models_list.append(model)\n",
    "models_list.sort()"
   ]
  },
  {
   "cell_type": "code",
   "execution_count": 5,
   "metadata": {
    "execution": {
     "iopub.execute_input": "2021-02-24T17:28:28.840129Z",
     "iopub.status.busy": "2021-02-24T17:28:28.839398Z",
     "iopub.status.idle": "2021-02-24T17:28:28.841768Z",
     "shell.execute_reply": "2021-02-24T17:28:28.842204Z"
    },
    "papermill": {
     "duration": 0.014112,
     "end_time": "2021-02-24T17:28:28.842296",
     "exception": false,
     "start_time": "2021-02-24T17:28:28.828184",
     "status": "completed"
    },
    "tags": []
   },
   "outputs": [],
   "source": [
    "# define albumentations for test data\n",
    "data_albums = {\n",
    "    'test': A.Compose([\n",
    "        A.Resize(height=400, width=400),\n",
    "        A.Normalize(mean=(0.485, 0.456, 0.406), std=(0.229, 0.224, 0.225)),\n",
    "        ToTensorV2()])}"
   ]
  },
  {
   "cell_type": "code",
   "execution_count": 6,
   "metadata": {
    "execution": {
     "iopub.execute_input": "2021-02-24T17:28:28.861413Z",
     "iopub.status.busy": "2021-02-24T17:28:28.860761Z",
     "iopub.status.idle": "2021-02-24T17:28:28.863698Z",
     "shell.execute_reply": "2021-02-24T17:28:28.863251Z"
    },
    "papermill": {
     "duration": 0.014311,
     "end_time": "2021-02-24T17:28:28.863786",
     "exception": false,
     "start_time": "2021-02-24T17:28:28.849475",
     "status": "completed"
    },
    "tags": []
   },
   "outputs": [],
   "source": [
    "def create_test_dataloader(root_dir, data_albums):\n",
    "    test_files = os.listdir(root_dir)\n",
    "    test_dataset = utils.CassavaTestDataset(test_files, root_dir, albums=data_albums[\"test\"])\n",
    "    test_dataloader = {\"test\": DataLoader(test_dataset, batch_size=16, num_workers=8)}\n",
    "    return test_dataloader"
   ]
  },
  {
   "cell_type": "code",
   "execution_count": 7,
   "metadata": {
    "execution": {
     "iopub.execute_input": "2021-02-24T17:28:28.881416Z",
     "iopub.status.busy": "2021-02-24T17:28:28.880943Z",
     "iopub.status.idle": "2021-02-24T17:28:28.888686Z",
     "shell.execute_reply": "2021-02-24T17:28:28.888213Z"
    },
    "papermill": {
     "duration": 0.017924,
     "end_time": "2021-02-24T17:28:28.888770",
     "exception": false,
     "start_time": "2021-02-24T17:28:28.870846",
     "status": "completed"
    },
    "tags": []
   },
   "outputs": [],
   "source": [
    "test_dataloader = create_test_dataloader(os.path.join(folder_path, \"test_images\"), data_albums)"
   ]
  },
  {
   "cell_type": "code",
   "execution_count": 8,
   "metadata": {
    "execution": {
     "iopub.execute_input": "2021-02-24T17:28:28.907235Z",
     "iopub.status.busy": "2021-02-24T17:28:28.906628Z",
     "iopub.status.idle": "2021-02-24T17:28:41.185310Z",
     "shell.execute_reply": "2021-02-24T17:28:41.184183Z"
    },
    "papermill": {
     "duration": 12.289355,
     "end_time": "2021-02-24T17:28:41.185445",
     "exception": false,
     "start_time": "2021-02-24T17:28:28.896090",
     "status": "completed"
    },
    "tags": []
   },
   "outputs": [],
   "source": [
    "# load all models from model_path\n",
    "models = {}\n",
    "for fold, model_path in enumerate(models_list):\n",
    "    models[fold] = torch.load(model_path)\n",
    "    models[fold].eval()"
   ]
  },
  {
   "cell_type": "code",
   "execution_count": 9,
   "metadata": {
    "execution": {
     "iopub.execute_input": "2021-02-24T17:28:41.206538Z",
     "iopub.status.busy": "2021-02-24T17:28:41.205534Z",
     "iopub.status.idle": "2021-02-24T17:28:41.208449Z",
     "shell.execute_reply": "2021-02-24T17:28:41.208026Z"
    },
    "papermill": {
     "duration": 0.015007,
     "end_time": "2021-02-24T17:28:41.208539",
     "exception": false,
     "start_time": "2021-02-24T17:28:41.193532",
     "status": "completed"
    },
    "tags": []
   },
   "outputs": [],
   "source": [
    "def get_inference_df(dataloader, models):\n",
    "    test_eng = utils.Engine(model=None, optimizer=None, device=DEVICE)\n",
    "    inference_df = test_eng.ensemble_predict(dataloader[\"test\"], models)\n",
    "    return inference_df "
   ]
  },
  {
   "cell_type": "code",
   "execution_count": 10,
   "metadata": {
    "execution": {
     "iopub.execute_input": "2021-02-24T17:28:41.231148Z",
     "iopub.status.busy": "2021-02-24T17:28:41.230583Z",
     "iopub.status.idle": "2021-02-24T17:28:42.367029Z",
     "shell.execute_reply": "2021-02-24T17:28:42.368379Z"
    },
    "papermill": {
     "duration": 1.152432,
     "end_time": "2021-02-24T17:28:42.368599",
     "exception": false,
     "start_time": "2021-02-24T17:28:41.216167",
     "status": "completed"
    },
    "tags": []
   },
   "outputs": [],
   "source": [
    "inference_df = get_inference_df(test_dataloader, models)"
   ]
  },
  {
   "cell_type": "code",
   "execution_count": 11,
   "metadata": {
    "execution": {
     "iopub.execute_input": "2021-02-24T17:28:42.409371Z",
     "iopub.status.busy": "2021-02-24T17:28:42.408378Z",
     "iopub.status.idle": "2021-02-24T17:28:42.835095Z",
     "shell.execute_reply": "2021-02-24T17:28:42.834617Z"
    },
    "papermill": {
     "duration": 0.450079,
     "end_time": "2021-02-24T17:28:42.835201",
     "exception": false,
     "start_time": "2021-02-24T17:28:42.385122",
     "status": "completed"
    },
    "tags": []
   },
   "outputs": [],
   "source": [
    "inference_df.to_csv(\"submission.csv\", index=False)"
   ]
  }
 ],
 "metadata": {
  "kernelspec": {
   "display_name": "Python 3",
   "language": "python",
   "name": "python3"
  },
  "language_info": {
   "codemirror_mode": {
    "name": "ipython",
    "version": 3
   },
   "file_extension": ".py",
   "mimetype": "text/x-python",
   "name": "python",
   "nbconvert_exporter": "python",
   "pygments_lexer": "ipython3",
   "version": "3.7.6"
  },
  "papermill": {
   "duration": 21.483683,
   "end_time": "2021-02-24T17:28:43.257391",
   "environment_variables": {},
   "exception": null,
   "input_path": "__notebook__.ipynb",
   "output_path": "__notebook__.ipynb",
   "parameters": {},
   "start_time": "2021-02-24T17:28:21.773708",
   "version": "2.1.0"
  }
 },
 "nbformat": 4,
 "nbformat_minor": 4
}
